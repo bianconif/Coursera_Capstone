{
 "cells": [
  {
   "cell_type": "code",
   "execution_count": 57,
   "metadata": {},
   "outputs": [],
   "source": [
    "import pandas as pd\n",
    "import requests "
   ]
  },
  {
   "cell_type": "markdown",
   "metadata": {},
   "source": [
    "# Part 1: Get the data from Wikipedia"
   ]
  },
  {
   "cell_type": "code",
   "execution_count": 58,
   "metadata": {},
   "outputs": [],
   "source": [
    "#Interrogate the target url\n",
    "website_url = 'https://en.wikipedia.org/wiki/List_of_postal_codes_of_Canada:_M'\n",
    "result = requests.get(website_url).text\n",
    "\n",
    "#Define the class of the elment we're looking for [wikipedia table]\n",
    "class_to_search = 'wikitable sortable'\n",
    "\n",
    "#Retrieve all the tables in the document. Return an exception if no table is found.\n",
    "tables = pd.read_html(website_url, attrs = {'class': class_to_search})\n",
    "if not len(tables) > 0:\n",
    "    raise Exception('The source page contains no tables')\n",
    "\n",
    "#Get the first table (there is only one in the source page)\n",
    "df = tables[0]"
   ]
  },
  {
   "cell_type": "markdown",
   "metadata": {},
   "source": [
    "Clean the imported data. Rename the 'Postal Code' column as 'PostalCode' and drop the records that have no assigned neighbourhood "
   ]
  },
  {
   "cell_type": "code",
   "execution_count": 59,
   "metadata": {},
   "outputs": [],
   "source": [
    "#Rename 'Postal Code' column as 'PostalCode'\n",
    "df.rename(columns = {'Postal Code' : 'PostalCode'}, inplace = True)\n",
    "\n",
    "#Drop the records for which Borough is 'Not assigned'\n",
    "df.drop(df[df.Borough == 'Not assigned'].index, inplace = True)"
   ]
  },
  {
   "cell_type": "markdown",
   "metadata": {},
   "source": [
    "Finally print the number of rows of the dataframe."
   ]
  },
  {
   "cell_type": "code",
   "execution_count": 60,
   "metadata": {},
   "outputs": [
    {
     "name": "stdout",
     "output_type": "stream",
     "text": [
      "The dataframe has 103 rows\n"
     ]
    }
   ],
   "source": [
    "print('The dataframe has {} rows'.format(df.shape[0]))"
   ]
  }
 ],
 "metadata": {
  "kernelspec": {
   "display_name": "Python 3",
   "language": "python",
   "name": "python3"
  },
  "language_info": {
   "codemirror_mode": {
    "name": "ipython",
    "version": 3
   },
   "file_extension": ".py",
   "mimetype": "text/x-python",
   "name": "python",
   "nbconvert_exporter": "python",
   "pygments_lexer": "ipython3",
   "version": "3.7.4"
  }
 },
 "nbformat": 4,
 "nbformat_minor": 4
}
