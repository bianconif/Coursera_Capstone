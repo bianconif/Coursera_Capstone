{
 "cells": [
  {
   "cell_type": "code",
   "execution_count": 44,
   "metadata": {},
   "outputs": [],
   "source": [
    "import pandas as pd\n",
    "import requests "
   ]
  },
  {
   "cell_type": "markdown",
   "metadata": {},
   "source": [
    "# Part 1: Get the data from Wikipedia"
   ]
  },
  {
   "cell_type": "code",
   "execution_count": 45,
   "metadata": {},
   "outputs": [],
   "source": [
    "#Interrogate the target url\n",
    "website_url = 'https://en.wikipedia.org/wiki/List_of_postal_codes_of_Canada:_M'\n",
    "result = requests.get(website_url).text\n",
    "\n",
    "#Define the class of the elment we're looking for [wikipedia table]\n",
    "class_to_search = 'wikitable sortable'\n",
    "\n",
    "#Retrieve all the tables in the document. Return an exception if no table is found.\n",
    "tables = pd.read_html(website_url, attrs = {'class': class_to_search})\n",
    "if not len(tables) > 0:\n",
    "    raise Exception('The source page contains no tables')\n",
    "\n",
    "#Get the first table (there is only one in the source page)\n",
    "df = tables[0]"
   ]
  },
  {
   "cell_type": "markdown",
   "metadata": {},
   "source": [
    "Clean the imported data. Rename the 'Postal Code' column as 'PostalCode' and drop the records that have no assigned neighbourhood "
   ]
  },
  {
   "cell_type": "code",
   "execution_count": 46,
   "metadata": {},
   "outputs": [],
   "source": [
    "#Rename 'Postal Code' column as 'PostalCode'\n",
    "df.rename(columns = {'Postal Code' : 'PostalCode'}, inplace = True)\n",
    "\n",
    "#Drop the records for which Borough is 'Not assigned'\n",
    "df.drop(df[df.Borough == 'Not assigned'].index, inplace = True)"
   ]
  },
  {
   "cell_type": "markdown",
   "metadata": {},
   "source": [
    "# Part 2: Add the geographical data"
   ]
  },
  {
   "cell_type": "code",
   "execution_count": 47,
   "metadata": {},
   "outputs": [
    {
     "data": {
      "text/html": [
       "<div>\n",
       "<style scoped>\n",
       "    .dataframe tbody tr th:only-of-type {\n",
       "        vertical-align: middle;\n",
       "    }\n",
       "\n",
       "    .dataframe tbody tr th {\n",
       "        vertical-align: top;\n",
       "    }\n",
       "\n",
       "    .dataframe thead th {\n",
       "        text-align: right;\n",
       "    }\n",
       "</style>\n",
       "<table border=\"1\" class=\"dataframe\">\n",
       "  <thead>\n",
       "    <tr style=\"text-align: right;\">\n",
       "      <th></th>\n",
       "      <th>Postal Code</th>\n",
       "      <th>Latitude</th>\n",
       "      <th>Longitude</th>\n",
       "    </tr>\n",
       "  </thead>\n",
       "  <tbody>\n",
       "    <tr>\n",
       "      <td>0</td>\n",
       "      <td>M1B</td>\n",
       "      <td>43.806686</td>\n",
       "      <td>-79.194353</td>\n",
       "    </tr>\n",
       "    <tr>\n",
       "      <td>1</td>\n",
       "      <td>M1C</td>\n",
       "      <td>43.784535</td>\n",
       "      <td>-79.160497</td>\n",
       "    </tr>\n",
       "    <tr>\n",
       "      <td>2</td>\n",
       "      <td>M1E</td>\n",
       "      <td>43.763573</td>\n",
       "      <td>-79.188711</td>\n",
       "    </tr>\n",
       "    <tr>\n",
       "      <td>3</td>\n",
       "      <td>M1G</td>\n",
       "      <td>43.770992</td>\n",
       "      <td>-79.216917</td>\n",
       "    </tr>\n",
       "    <tr>\n",
       "      <td>4</td>\n",
       "      <td>M1H</td>\n",
       "      <td>43.773136</td>\n",
       "      <td>-79.239476</td>\n",
       "    </tr>\n",
       "  </tbody>\n",
       "</table>\n",
       "</div>"
      ],
      "text/plain": [
       "  Postal Code   Latitude  Longitude\n",
       "0         M1B  43.806686 -79.194353\n",
       "1         M1C  43.784535 -79.160497\n",
       "2         M1E  43.763573 -79.188711\n",
       "3         M1G  43.770992 -79.216917\n",
       "4         M1H  43.773136 -79.239476"
      ]
     },
     "execution_count": 47,
     "metadata": {},
     "output_type": "execute_result"
    }
   ],
   "source": [
    "#Read from the csv\n",
    "csv_source = 'https://cocl.us/Geospatial_data'\n",
    "df_coordinates = pd.read_csv(csv_source)\n",
    "df_coordinates.head()"
   ]
  },
  {
   "cell_type": "code",
   "execution_count": 48,
   "metadata": {},
   "outputs": [
    {
     "data": {
      "text/html": [
       "<div>\n",
       "<style scoped>\n",
       "    .dataframe tbody tr th:only-of-type {\n",
       "        vertical-align: middle;\n",
       "    }\n",
       "\n",
       "    .dataframe tbody tr th {\n",
       "        vertical-align: top;\n",
       "    }\n",
       "\n",
       "    .dataframe thead th {\n",
       "        text-align: right;\n",
       "    }\n",
       "</style>\n",
       "<table border=\"1\" class=\"dataframe\">\n",
       "  <thead>\n",
       "    <tr style=\"text-align: right;\">\n",
       "      <th></th>\n",
       "      <th>PostalCode</th>\n",
       "      <th>Latitude</th>\n",
       "      <th>Longitude</th>\n",
       "    </tr>\n",
       "  </thead>\n",
       "  <tbody>\n",
       "    <tr>\n",
       "      <td>0</td>\n",
       "      <td>M1B</td>\n",
       "      <td>43.806686</td>\n",
       "      <td>-79.194353</td>\n",
       "    </tr>\n",
       "    <tr>\n",
       "      <td>1</td>\n",
       "      <td>M1C</td>\n",
       "      <td>43.784535</td>\n",
       "      <td>-79.160497</td>\n",
       "    </tr>\n",
       "    <tr>\n",
       "      <td>2</td>\n",
       "      <td>M1E</td>\n",
       "      <td>43.763573</td>\n",
       "      <td>-79.188711</td>\n",
       "    </tr>\n",
       "    <tr>\n",
       "      <td>3</td>\n",
       "      <td>M1G</td>\n",
       "      <td>43.770992</td>\n",
       "      <td>-79.216917</td>\n",
       "    </tr>\n",
       "    <tr>\n",
       "      <td>4</td>\n",
       "      <td>M1H</td>\n",
       "      <td>43.773136</td>\n",
       "      <td>-79.239476</td>\n",
       "    </tr>\n",
       "  </tbody>\n",
       "</table>\n",
       "</div>"
      ],
      "text/plain": [
       "  PostalCode   Latitude  Longitude\n",
       "0        M1B  43.806686 -79.194353\n",
       "1        M1C  43.784535 -79.160497\n",
       "2        M1E  43.763573 -79.188711\n",
       "3        M1G  43.770992 -79.216917\n",
       "4        M1H  43.773136 -79.239476"
      ]
     },
     "execution_count": 48,
     "metadata": {},
     "output_type": "execute_result"
    }
   ],
   "source": [
    "df_coordinates.rename(columns = {'Postal Code' : 'PostalCode'}, inplace = True)\n",
    "df_coordinates.head()"
   ]
  },
  {
   "cell_type": "markdown",
   "metadata": {},
   "source": [
    "Add longitude and latitude data to the original neighbourhood dataset"
   ]
  },
  {
   "cell_type": "code",
   "execution_count": 49,
   "metadata": {},
   "outputs": [
    {
     "data": {
      "text/html": [
       "<div>\n",
       "<style scoped>\n",
       "    .dataframe tbody tr th:only-of-type {\n",
       "        vertical-align: middle;\n",
       "    }\n",
       "\n",
       "    .dataframe tbody tr th {\n",
       "        vertical-align: top;\n",
       "    }\n",
       "\n",
       "    .dataframe thead th {\n",
       "        text-align: right;\n",
       "    }\n",
       "</style>\n",
       "<table border=\"1\" class=\"dataframe\">\n",
       "  <thead>\n",
       "    <tr style=\"text-align: right;\">\n",
       "      <th></th>\n",
       "      <th>PostalCode</th>\n",
       "      <th>Borough</th>\n",
       "      <th>Neighborhood</th>\n",
       "      <th>Latitude</th>\n",
       "      <th>Longitude</th>\n",
       "    </tr>\n",
       "  </thead>\n",
       "  <tbody>\n",
       "    <tr>\n",
       "      <td>0</td>\n",
       "      <td>M3A</td>\n",
       "      <td>North York</td>\n",
       "      <td>Parkwoods</td>\n",
       "      <td>43.753259</td>\n",
       "      <td>-79.329656</td>\n",
       "    </tr>\n",
       "    <tr>\n",
       "      <td>1</td>\n",
       "      <td>M4A</td>\n",
       "      <td>North York</td>\n",
       "      <td>Victoria Village</td>\n",
       "      <td>43.725882</td>\n",
       "      <td>-79.315572</td>\n",
       "    </tr>\n",
       "    <tr>\n",
       "      <td>2</td>\n",
       "      <td>M5A</td>\n",
       "      <td>Downtown Toronto</td>\n",
       "      <td>Regent Park, Harbourfront</td>\n",
       "      <td>43.654260</td>\n",
       "      <td>-79.360636</td>\n",
       "    </tr>\n",
       "    <tr>\n",
       "      <td>3</td>\n",
       "      <td>M6A</td>\n",
       "      <td>North York</td>\n",
       "      <td>Lawrence Manor, Lawrence Heights</td>\n",
       "      <td>43.718518</td>\n",
       "      <td>-79.464763</td>\n",
       "    </tr>\n",
       "    <tr>\n",
       "      <td>4</td>\n",
       "      <td>M7A</td>\n",
       "      <td>Downtown Toronto</td>\n",
       "      <td>Queen's Park, Ontario Provincial Government</td>\n",
       "      <td>43.662301</td>\n",
       "      <td>-79.389494</td>\n",
       "    </tr>\n",
       "  </tbody>\n",
       "</table>\n",
       "</div>"
      ],
      "text/plain": [
       "  PostalCode           Borough                                 Neighborhood  \\\n",
       "0        M3A        North York                                    Parkwoods   \n",
       "1        M4A        North York                             Victoria Village   \n",
       "2        M5A  Downtown Toronto                    Regent Park, Harbourfront   \n",
       "3        M6A        North York             Lawrence Manor, Lawrence Heights   \n",
       "4        M7A  Downtown Toronto  Queen's Park, Ontario Provincial Government   \n",
       "\n",
       "    Latitude  Longitude  \n",
       "0  43.753259 -79.329656  \n",
       "1  43.725882 -79.315572  \n",
       "2  43.654260 -79.360636  \n",
       "3  43.718518 -79.464763  \n",
       "4  43.662301 -79.389494  "
      ]
     },
     "execution_count": 49,
     "metadata": {},
     "output_type": "execute_result"
    }
   ],
   "source": [
    "#Do inner join on 'PostalCode'\n",
    "df = pd.merge(df, df_coordinates, how = 'inner', on = ['PostalCode'])\n",
    "df.head()"
   ]
  },
  {
   "cell_type": "markdown",
   "metadata": {},
   "source": [
    "# Part 3: Do the clustering"
   ]
  },
  {
   "cell_type": "markdown",
   "metadata": {},
   "source": [
    "Let's work only with boroughs that contain the word Toronto"
   ]
  },
  {
   "cell_type": "code",
   "execution_count": 50,
   "metadata": {},
   "outputs": [],
   "source": [
    "#Drop the records that do not have the keyword 'Toronto' in the 'Borough' field\n",
    "df.drop(df[~df.Borough.str.contains('Toronto')].index, inplace = True)"
   ]
  },
  {
   "cell_type": "markdown",
   "metadata": {},
   "source": [
    "Cluster the geographical data using k-means (scikit-learn implementation). "
   ]
  },
  {
   "cell_type": "code",
   "execution_count": 51,
   "metadata": {},
   "outputs": [
    {
     "data": {
      "text/html": [
       "<div>\n",
       "<style scoped>\n",
       "    .dataframe tbody tr th:only-of-type {\n",
       "        vertical-align: middle;\n",
       "    }\n",
       "\n",
       "    .dataframe tbody tr th {\n",
       "        vertical-align: top;\n",
       "    }\n",
       "\n",
       "    .dataframe thead th {\n",
       "        text-align: right;\n",
       "    }\n",
       "</style>\n",
       "<table border=\"1\" class=\"dataframe\">\n",
       "  <thead>\n",
       "    <tr style=\"text-align: right;\">\n",
       "      <th></th>\n",
       "      <th>PostalCode</th>\n",
       "      <th>Borough</th>\n",
       "      <th>Neighborhood</th>\n",
       "      <th>Latitude</th>\n",
       "      <th>Longitude</th>\n",
       "      <th>Cluster</th>\n",
       "    </tr>\n",
       "  </thead>\n",
       "  <tbody>\n",
       "    <tr>\n",
       "      <td>2</td>\n",
       "      <td>M5A</td>\n",
       "      <td>Downtown Toronto</td>\n",
       "      <td>Regent Park, Harbourfront</td>\n",
       "      <td>43.654260</td>\n",
       "      <td>-79.360636</td>\n",
       "      <td>0</td>\n",
       "    </tr>\n",
       "    <tr>\n",
       "      <td>4</td>\n",
       "      <td>M7A</td>\n",
       "      <td>Downtown Toronto</td>\n",
       "      <td>Queen's Park, Ontario Provincial Government</td>\n",
       "      <td>43.662301</td>\n",
       "      <td>-79.389494</td>\n",
       "      <td>0</td>\n",
       "    </tr>\n",
       "    <tr>\n",
       "      <td>9</td>\n",
       "      <td>M5B</td>\n",
       "      <td>Downtown Toronto</td>\n",
       "      <td>Garden District, Ryerson</td>\n",
       "      <td>43.657162</td>\n",
       "      <td>-79.378937</td>\n",
       "      <td>0</td>\n",
       "    </tr>\n",
       "    <tr>\n",
       "      <td>15</td>\n",
       "      <td>M5C</td>\n",
       "      <td>Downtown Toronto</td>\n",
       "      <td>St. James Town</td>\n",
       "      <td>43.651494</td>\n",
       "      <td>-79.375418</td>\n",
       "      <td>0</td>\n",
       "    </tr>\n",
       "    <tr>\n",
       "      <td>19</td>\n",
       "      <td>M4E</td>\n",
       "      <td>East Toronto</td>\n",
       "      <td>The Beaches</td>\n",
       "      <td>43.676357</td>\n",
       "      <td>-79.293031</td>\n",
       "      <td>1</td>\n",
       "    </tr>\n",
       "  </tbody>\n",
       "</table>\n",
       "</div>"
      ],
      "text/plain": [
       "   PostalCode           Borough                                 Neighborhood  \\\n",
       "2         M5A  Downtown Toronto                    Regent Park, Harbourfront   \n",
       "4         M7A  Downtown Toronto  Queen's Park, Ontario Provincial Government   \n",
       "9         M5B  Downtown Toronto                     Garden District, Ryerson   \n",
       "15        M5C  Downtown Toronto                               St. James Town   \n",
       "19        M4E      East Toronto                                  The Beaches   \n",
       "\n",
       "     Latitude  Longitude  Cluster  \n",
       "2   43.654260 -79.360636        0  \n",
       "4   43.662301 -79.389494        0  \n",
       "9   43.657162 -79.378937        0  \n",
       "15  43.651494 -79.375418        0  \n",
       "19  43.676357 -79.293031        1  "
      ]
     },
     "execution_count": 51,
     "metadata": {},
     "output_type": "execute_result"
    }
   ],
   "source": [
    "from sklearn.cluster import KMeans\n",
    "\n",
    "#Set the colours for clustering. \n",
    "colours = ['#1b9e77','#d95f02','#7570b3','#e7298a','#66a61e']\n",
    "\n",
    "#Let the number of clusters be the same as the number of colours defined. Add or remove colours\n",
    "#to change the number of clusters\n",
    "k = len(colours)\n",
    "\n",
    "#Do the clustering\n",
    "df.dtypes\n",
    "clusters = KMeans(n_clusters = k, random_state = 0).fit(df[['Latitude', 'Longitude']].to_numpy())\n",
    "\n",
    "#Add the clusters' labels to the dataframe\n",
    "df['Cluster'] = clusters.labels_\n",
    "df.head()"
   ]
  },
  {
   "cell_type": "markdown",
   "metadata": {},
   "source": [
    "Finally, let's visualize the resulting clusters"
   ]
  },
  {
   "cell_type": "code",
   "execution_count": 52,
   "metadata": {},
   "outputs": [],
   "source": [
    "import folium\n",
    "from geopy.geocoders import Nominatim"
   ]
  },
  {
   "cell_type": "markdown",
   "metadata": {},
   "source": [
    "The code in the following cell was used to retrieve the center of the map. No we used the cached vale to avoid calling the service again."
   ]
  },
  {
   "cell_type": "code",
   "execution_count": 53,
   "metadata": {},
   "outputs": [],
   "source": [
    "#geolocator = Nominatim(user_agent = 'coursera_capstone_project')\n",
    "#location = geolocator.geocode(\"Toronto\")\n",
    "#map_center = [location.latitude, location.longitude]"
   ]
  },
  {
   "cell_type": "code",
   "execution_count": 56,
   "metadata": {},
   "outputs": [
    {
     "data": {
      "text/html": [
       "<div style=\"width:100%;\"><div style=\"position:relative;width:100%;height:0;padding-bottom:60%;\"><span style=\"color:#565656\">Make this Notebook Trusted to load map: File -> Trust Notebook</span><iframe src=\"about:blank\" style=\"position:absolute;width:100%;height:100%;left:0;top:0;border:none !important;\" data-html=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 onload=\"this.contentDocument.open();this.contentDocument.write(atob(this.getAttribute('data-html')));this.contentDocument.close();\" allowfullscreen webkitallowfullscreen mozallowfullscreen></iframe></div></div>"
      ],
      "text/plain": [
       "<folium.folium.Map at 0x14689688>"
      ]
     },
     "execution_count": 56,
     "metadata": {},
     "output_type": "execute_result"
    }
   ],
   "source": [
    "#Use the cached value\n",
    "map_center = [43.6534817, -79.3839347]\n",
    "\n",
    "#Create the map\n",
    "clusters_map = folium.Map(location = map_center, zoom_start = 12)\n",
    "\n",
    "#Add markers to the map to show the clusters\n",
    "markers_colors = []\n",
    "for lat, lon, poi, cluster in zip(df['Latitude'], df['Longitude'], df['Neighborhood'], df['Cluster']):\n",
    "    label = folium.Popup(str(poi) + ' Cluster ' + str(cluster), parse_html=True)\n",
    "    folium.CircleMarker(\n",
    "        [lat, lon],\n",
    "        radius = 5,\n",
    "        popup = label,\n",
    "        color = colours[cluster],\n",
    "        fill = True,\n",
    "        fill_color = colours[cluster],\n",
    "        fill_opacity=0.7).add_to(clusters_map)\n",
    "\n",
    "clusters_map"
   ]
  },
  {
   "cell_type": "code",
   "execution_count": null,
   "metadata": {},
   "outputs": [],
   "source": []
  }
 ],
 "metadata": {
  "kernelspec": {
   "display_name": "Python 3",
   "language": "python",
   "name": "python3"
  },
  "language_info": {
   "codemirror_mode": {
    "name": "ipython",
    "version": 3
   },
   "file_extension": ".py",
   "mimetype": "text/x-python",
   "name": "python",
   "nbconvert_exporter": "python",
   "pygments_lexer": "ipython3",
   "version": "3.7.4"
  }
 },
 "nbformat": 4,
 "nbformat_minor": 4
}
